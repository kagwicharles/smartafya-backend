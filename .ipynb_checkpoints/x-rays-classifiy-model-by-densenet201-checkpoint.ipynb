{
 "cells": [
  {
   "cell_type": "code",
   "execution_count": 1,
   "id": "79bd3c40",
   "metadata": {
    "execution": {
     "iopub.execute_input": "2022-01-04T09:27:44.537958Z",
     "iopub.status.busy": "2022-01-04T09:27:44.535873Z",
     "iopub.status.idle": "2022-01-04T09:27:54.469603Z",
     "shell.execute_reply": "2022-01-04T09:27:54.468899Z",
     "shell.execute_reply.started": "2022-01-04T06:49:27.800149Z"
    },
    "papermill": {
     "duration": 9.97548,
     "end_time": "2022-01-04T09:27:54.469869",
     "exception": false,
     "start_time": "2022-01-04T09:27:44.494389",
     "status": "completed"
    },
    "tags": []
   },
   "outputs": [],
   "source": [
    "import pandas as pd\n",
    "import numpy as np\n",
    "import matplotlib.pyplot as plt\n",
    "import seaborn as sns\n",
    "import plotly.express as px\n",
    "import os\n",
    "\n",
    "import tensorflow as tf\n",
    "from tensorflow.keras.preprocessing.image import ImageDataGenerator\n",
    "from sklearn.preprocessing import LabelBinarizer\n",
    "from sklearn.metrics import roc_curve, auc, roc_auc_score\n",
    "from sklearn.model_selection import train_test_split\n",
    "\n",
    "from IPython.display import clear_output\n",
    "import warnings\n",
    "warnings.filterwarnings('ignore')"
   ]
  },
  {
   "cell_type": "code",
   "execution_count": 2,
   "id": "9fa4a3ee",
   "metadata": {
    "execution": {
     "iopub.execute_input": "2022-01-04T09:27:54.504446Z",
     "iopub.status.busy": "2022-01-04T09:27:54.503361Z",
     "iopub.status.idle": "2022-01-04T09:27:54.505617Z",
     "shell.execute_reply": "2022-01-04T09:27:54.506248Z",
     "shell.execute_reply.started": "2022-01-04T06:49:35.617028Z"
    },
    "papermill": {
     "duration": 0.02127,
     "end_time": "2022-01-04T09:27:54.506406",
     "exception": false,
     "start_time": "2022-01-04T09:27:54.485136",
     "status": "completed"
    },
    "tags": []
   },
   "outputs": [],
   "source": [
    "train_dir = \"../input/chest-xray-pneumonia/chest_xray/train\"\n",
    "test_dir = \"../input/chest-xray-pneumonia/chest_xray/test\"\n",
    "valid_dir = \"../input/chest-xray-pneumonia/chest_xray/val\"\n",
    "\n",
    "SEED = 12\n",
    "IMG_HEIGHT = 160\n",
    "IMG_WIDTH = 160\n",
    "BATCH_SIZE = 32\n",
    "EPOCHS = 100\n",
    "LR =  0.0005\n",
    "NUM_CLASSES = 2\n",
    "CLASS_LABELS = ['NORMAL','PNEUMONIA']"
   ]
  },
  {
   "cell_type": "markdown",
   "id": "7d7fcf4c",
   "metadata": {
    "papermill": {
     "duration": 0.012177,
     "end_time": "2022-01-04T09:27:54.530652",
     "exception": false,
     "start_time": "2022-01-04T09:27:54.518475",
     "status": "completed"
    },
    "tags": []
   },
   "source": [
    "I refered to the notebook (https://www.kaggle.com/mustafacicek/chest-x-rays-densenet121-transfer-learning/notebook ) to increase valid data from train data."
   ]
  },
  {
   "cell_type": "code",
   "execution_count": 3,
   "id": "1237f990",
   "metadata": {
    "execution": {
     "iopub.execute_input": "2022-01-04T09:27:54.564303Z",
     "iopub.status.busy": "2022-01-04T09:27:54.558200Z",
     "iopub.status.idle": "2022-01-04T09:27:55.074165Z",
     "shell.execute_reply": "2022-01-04T09:27:55.069942Z",
     "shell.execute_reply.started": "2022-01-04T06:49:35.62676Z"
    },
    "papermill": {
     "duration": 0.531703,
     "end_time": "2022-01-04T09:27:55.074444",
     "exception": false,
     "start_time": "2022-01-04T09:27:54.542741",
     "status": "completed"
    },
    "tags": []
   },
   "outputs": [],
   "source": [
    "train_normal = pd.DataFrame({\"path\": os.listdir(train_dir + \"/NORMAL\"), \"label\": \"NORMAL\"})\n",
    "train_normal[\"path\"] = train_normal[\"path\"].apply(lambda x: train_dir + \"/NORMAL/\" + x)\n",
    "train_pneumonia = pd.DataFrame({\"path\": os.listdir(train_dir + \"/PNEUMONIA\"), \"label\": \"PNEUMONIA\"})\n",
    "train_pneumonia[\"path\"] = train_pneumonia[\"path\"].apply(lambda x: train_dir + \"/PNEUMONIA/\" + x)\n",
    "\n",
    "train_df = pd.concat([train_normal, train_pneumonia])\n",
    "\n",
    "val_normal = pd.DataFrame({\"path\": os.listdir(valid_dir + \"/NORMAL\"), \"label\": \"NORMAL\"})\n",
    "val_normal[\"path\"] = val_normal[\"path\"].apply(lambda x: valid_dir + \"/NORMAL/\" + x)\n",
    "val_pneumonia = pd.DataFrame({\"path\": os.listdir(valid_dir + \"/PNEUMONIA\"), \"label\": \"PNEUMONIA\"})\n",
    "val_pneumonia[\"path\"] = val_pneumonia[\"path\"].apply(lambda x: valid_dir + \"/PNEUMONIA/\" + x)\n",
    "\n",
    "val_df = pd.concat([val_normal, val_pneumonia])"
   ]
  },
  {
   "cell_type": "code",
   "execution_count": 4,
   "id": "2fceafd0",
   "metadata": {
    "execution": {
     "iopub.execute_input": "2022-01-04T09:27:55.144363Z",
     "iopub.status.busy": "2022-01-04T09:27:55.143176Z",
     "iopub.status.idle": "2022-01-04T09:27:55.174500Z",
     "shell.execute_reply": "2022-01-04T09:27:55.175079Z",
     "shell.execute_reply.started": "2022-01-04T06:49:35.819322Z"
    },
    "papermill": {
     "duration": 0.069036,
     "end_time": "2022-01-04T09:27:55.175284",
     "exception": false,
     "start_time": "2022-01-04T09:27:55.106248",
     "status": "completed"
    },
    "tags": []
   },
   "outputs": [
    {
     "name": "stdout",
     "output_type": "stream",
     "text": [
      "Training set size after re-splitting training data: 4694\n",
      "Validation set size after re-splitting training data: 538\n"
     ]
    }
   ],
   "source": [
    "train_data, val_data = train_test_split(train_df, \n",
    "                                        test_size = 0.1, \n",
    "                                        random_state = SEED, \n",
    "                                        stratify = train_df[\"label\"], \n",
    "                                        shuffle = True)\n",
    "\n",
    "val_data = pd.concat([val_df, val_data])\n",
    "\n",
    "print(f\"Training set size after re-splitting training data: {len(train_data)}\")\n",
    "print(f\"Validation set size after re-splitting training data: {len(val_data)}\")"
   ]
  },
  {
   "cell_type": "code",
   "execution_count": 5,
   "id": "4f011716",
   "metadata": {
    "execution": {
     "iopub.execute_input": "2022-01-04T09:27:55.241540Z",
     "iopub.status.busy": "2022-01-04T09:27:55.240523Z",
     "iopub.status.idle": "2022-01-04T09:27:55.245876Z",
     "shell.execute_reply": "2022-01-04T09:27:55.246654Z",
     "shell.execute_reply.started": "2022-01-04T06:49:35.841296Z"
    },
    "papermill": {
     "duration": 0.050144,
     "end_time": "2022-01-04T09:27:55.246974",
     "exception": false,
     "start_time": "2022-01-04T09:27:55.196830",
     "status": "completed"
    },
    "tags": []
   },
   "outputs": [],
   "source": [
    "preprocess_fun = tf.keras.applications.densenet.preprocess_input\n",
    "\n",
    "train_datagen = ImageDataGenerator(horizontal_flip=True,\n",
    "                                   width_shift_range=0.1,\n",
    "                                   height_shift_range=0.05,\n",
    "                                   rescale = 1./255,\n",
    "                                   preprocessing_function=preprocess_fun\n",
    "                                  )\n",
    "valid_datagen= ImageDataGenerator(horizontal_flip=True,\n",
    "                                   width_shift_range=0.1,\n",
    "                                   height_shift_range=0.05,\n",
    "                                   rescale = 1./255,\n",
    "                                   preprocessing_function=preprocess_fun\n",
    "                                  )\n",
    "test_datagen = ImageDataGenerator(rescale = 1./255,\n",
    "                                  preprocessing_function=preprocess_fun\n",
    "                                 )"
   ]
  },
  {
   "cell_type": "code",
   "execution_count": 6,
   "id": "29efe87b",
   "metadata": {
    "execution": {
     "iopub.execute_input": "2022-01-04T09:27:55.301451Z",
     "iopub.status.busy": "2022-01-04T09:27:55.300397Z",
     "iopub.status.idle": "2022-01-04T09:28:01.135688Z",
     "shell.execute_reply": "2022-01-04T09:28:01.135136Z",
     "shell.execute_reply.started": "2022-01-04T06:49:35.849927Z"
    },
    "papermill": {
     "duration": 5.867237,
     "end_time": "2022-01-04T09:28:01.135880",
     "exception": false,
     "start_time": "2022-01-04T09:27:55.268643",
     "status": "completed"
    },
    "tags": []
   },
   "outputs": [
    {
     "name": "stdout",
     "output_type": "stream",
     "text": [
      "Found 4694 validated image filenames belonging to 2 classes.\n",
      "Found 538 validated image filenames belonging to 2 classes.\n",
      "Found 624 images belonging to 2 classes.\n"
     ]
    }
   ],
   "source": [
    "train_generator = train_datagen.flow_from_dataframe(dataframe = train_data,\n",
    "                                                    x_col = \"path\",\n",
    "                                                    y_col = \"label\",\n",
    "                                                    target_size = (150, 150),\n",
    "                                                    class_mode = \"categorical\",\n",
    "                                                    batch_size = BATCH_SIZE,\n",
    "                                                    shuffle = True,\n",
    "                                                    seed = SEED\n",
    "                                                   )\n",
    "valid_generator = valid_datagen.flow_from_dataframe(dataframe = val_data,\n",
    "                                                    x_col = \"path\",\n",
    "                                                    y_col = \"label\",\n",
    "                                                    target_size = (150, 150),\n",
    "                                                    class_mode = \"categorical\",\n",
    "                                                    batch_size = BATCH_SIZE,\n",
    "                                                    shuffle = True,\n",
    "                                                    seed = SEED\n",
    "                                                   )\n",
    "test_generator = test_datagen.flow_from_directory(directory = test_dir,\n",
    "                                                   target_size = (IMG_HEIGHT ,IMG_WIDTH),\n",
    "                                                    batch_size = BATCH_SIZE,\n",
    "                                                    shuffle  = False , \n",
    "                                                    class_mode = \"categorical\",\n",
    "                                                    seed = SEED\n",
    "                                                  )"
   ]
  },
  {
   "cell_type": "code",
   "execution_count": 7,
   "id": "eb891b72",
   "metadata": {
    "execution": {
     "iopub.execute_input": "2022-01-04T09:28:01.174678Z",
     "iopub.status.busy": "2022-01-04T09:28:01.173979Z",
     "iopub.status.idle": "2022-01-04T09:28:13.869459Z",
     "shell.execute_reply": "2022-01-04T09:28:13.868579Z",
     "shell.execute_reply.started": "2022-01-04T06:49:39.090573Z"
    },
    "papermill": {
     "duration": 12.720833,
     "end_time": "2022-01-04T09:28:13.869676",
     "exception": false,
     "start_time": "2022-01-04T09:28:01.148843",
     "status": "completed"
    },
    "tags": []
   },
   "outputs": [
    {
     "name": "stdout",
     "output_type": "stream",
     "text": [
      "Model: \"model\"\n",
      "_________________________________________________________________\n",
      "Layer (type)                 Output Shape              Param #   \n",
      "=================================================================\n",
      "input_1 (InputLayer)         [(None, 160, 160, 3)]     0         \n",
      "_________________________________________________________________\n",
      "densenet201 (Functional)     (None, 5, 5, 1920)        18321984  \n",
      "_________________________________________________________________\n",
      "global_average_pooling2d (Gl (None, 1920)              0         \n",
      "_________________________________________________________________\n",
      "dense (Dense)                (None, 256)               491776    \n",
      "_________________________________________________________________\n",
      "dropout (Dropout)            (None, 256)               0         \n",
      "_________________________________________________________________\n",
      "dense_1 (Dense)              (None, 1024)              263168    \n",
      "_________________________________________________________________\n",
      "dropout_1 (Dropout)          (None, 1024)              0         \n",
      "_________________________________________________________________\n",
      "dense_2 (Dense)              (None, 512)               524800    \n",
      "_________________________________________________________________\n",
      "dropout_2 (Dropout)          (None, 512)               0         \n",
      "_________________________________________________________________\n",
      "classification (Dense)       (None, 2)                 1026      \n",
      "=================================================================\n",
      "Total params: 19,602,754\n",
      "Trainable params: 19,373,698\n",
      "Non-trainable params: 229,056\n",
      "_________________________________________________________________\n"
     ]
    }
   ],
   "source": [
    "def feature_extractor(inputs):\n",
    "    feature_extractor = tf.keras.applications.DenseNet201(input_shape=(IMG_HEIGHT,IMG_WIDTH, 3),\n",
    "                                               include_top=False,\n",
    "                                               weights=\"imagenet\")(inputs)\n",
    "    \n",
    "    return feature_extractor\n",
    "\n",
    "def classifier(inputs):\n",
    "    x = tf.keras.layers.GlobalAveragePooling2D()(inputs)\n",
    "    x = tf.keras.layers.Dense(256, activation=\"relu\")(x)\n",
    "    x = tf.keras.layers.Dropout(0.3)(x)\n",
    "    x = tf.keras.layers.Dense(1024, activation=\"relu\")(x)\n",
    "    x = tf.keras.layers.Dropout(0.5)(x)\n",
    "    x = tf.keras.layers.Dense(512, activation=\"relu\")(x)\n",
    "    x = tf.keras.layers.Dropout(0.4) (x)\n",
    "    x = tf.keras.layers.Dense(NUM_CLASSES, activation=\"softmax\", name=\"classification\")(x)\n",
    "    \n",
    "    return x\n",
    "\n",
    "def final_model(inputs):\n",
    "    densenet_feature_extractor = feature_extractor(inputs)\n",
    "    classification_output = classifier(densenet_feature_extractor)\n",
    "    \n",
    "    return classification_output\n",
    "\n",
    "def define_compile_model():\n",
    "    \n",
    "    inputs = tf.keras.layers.Input(shape=(IMG_HEIGHT ,IMG_WIDTH,3))\n",
    "    classification_output = final_model(inputs) \n",
    "    model = tf.keras.Model(inputs=inputs, outputs = classification_output)\n",
    "     \n",
    "    model.compile(optimizer=tf.keras.optimizers.SGD(LR), \n",
    "                loss='categorical_crossentropy',\n",
    "                metrics = [tf.keras.metrics.BinaryAccuracy()])\n",
    "  \n",
    "    return model\n",
    "\n",
    "model = define_compile_model()\n",
    "clear_output()\n",
    "model.summary()"
   ]
  },
  {
   "cell_type": "code",
   "execution_count": 8,
   "id": "4c8fcb49",
   "metadata": {
    "execution": {
     "iopub.execute_input": "2022-01-04T09:28:13.912210Z",
     "iopub.status.busy": "2022-01-04T09:28:13.910922Z",
     "iopub.status.idle": "2022-01-04T12:32:51.844395Z",
     "shell.execute_reply": "2022-01-04T12:32:51.843663Z"
    },
    "papermill": {
     "duration": 11077.960238,
     "end_time": "2022-01-04T12:32:51.844555",
     "exception": false,
     "start_time": "2022-01-04T09:28:13.884317",
     "status": "completed"
    },
    "tags": []
   },
   "outputs": [
    {
     "name": "stderr",
     "output_type": "stream",
     "text": [
      "2022-01-04 09:28:14.777785: I tensorflow/compiler/mlir/mlir_graph_optimization_pass.cc:185] None of the MLIR Optimization Passes are enabled (registered 2)\n"
     ]
    },
    {
     "name": "stdout",
     "output_type": "stream",
     "text": [
      "Epoch 1/100\n"
     ]
    },
    {
     "name": "stderr",
     "output_type": "stream",
     "text": [
      "2022-01-04 09:28:36.947546: I tensorflow/stream_executor/cuda/cuda_dnn.cc:369] Loaded cuDNN version 8005\n"
     ]
    },
    {
     "name": "stdout",
     "output_type": "stream",
     "text": [
      "147/147 [==============================] - 174s 983ms/step - loss: 0.6281 - binary_accuracy: 0.6728 - val_loss: 0.5973 - val_binary_accuracy: 0.7361\n",
      "Epoch 2/100\n",
      "147/147 [==============================] - 99s 668ms/step - loss: 0.5416 - binary_accuracy: 0.7414 - val_loss: 0.9022 - val_binary_accuracy: 0.7361\n",
      "Epoch 3/100\n",
      "147/147 [==============================] - 97s 655ms/step - loss: 0.4754 - binary_accuracy: 0.7642 - val_loss: 0.5986 - val_binary_accuracy: 0.7361\n",
      "Epoch 4/100\n",
      "147/147 [==============================] - 101s 685ms/step - loss: 0.4197 - binary_accuracy: 0.7914 - val_loss: 0.5652 - val_binary_accuracy: 0.7361\n",
      "Epoch 5/100\n",
      "147/147 [==============================] - 97s 658ms/step - loss: 0.3576 - binary_accuracy: 0.8294 - val_loss: 0.6139 - val_binary_accuracy: 0.7361\n",
      "Epoch 6/100\n",
      "147/147 [==============================] - 96s 651ms/step - loss: 0.3147 - binary_accuracy: 0.8592 - val_loss: 0.5300 - val_binary_accuracy: 0.7361\n",
      "Epoch 7/100\n",
      "147/147 [==============================] - 97s 657ms/step - loss: 0.2629 - binary_accuracy: 0.8958 - val_loss: 0.4160 - val_binary_accuracy: 0.7751\n",
      "Epoch 8/100\n",
      "147/147 [==============================] - 98s 661ms/step - loss: 0.2319 - binary_accuracy: 0.9056 - val_loss: 0.2018 - val_binary_accuracy: 0.9145\n",
      "Epoch 9/100\n",
      "147/147 [==============================] - 97s 660ms/step - loss: 0.2052 - binary_accuracy: 0.9222 - val_loss: 0.1500 - val_binary_accuracy: 0.9480\n",
      "Epoch 10/100\n",
      "147/147 [==============================] - 97s 656ms/step - loss: 0.1755 - binary_accuracy: 0.9369 - val_loss: 0.1330 - val_binary_accuracy: 0.9480\n",
      "Epoch 11/100\n",
      "147/147 [==============================] - 97s 656ms/step - loss: 0.1553 - binary_accuracy: 0.9461 - val_loss: 0.1101 - val_binary_accuracy: 0.9554\n",
      "Epoch 12/100\n",
      "147/147 [==============================] - 98s 661ms/step - loss: 0.1458 - binary_accuracy: 0.9491 - val_loss: 0.1175 - val_binary_accuracy: 0.9461\n",
      "Epoch 13/100\n",
      "147/147 [==============================] - 97s 658ms/step - loss: 0.1331 - binary_accuracy: 0.9550 - val_loss: 0.0983 - val_binary_accuracy: 0.9610\n",
      "Epoch 14/100\n",
      "147/147 [==============================] - 98s 664ms/step - loss: 0.1184 - binary_accuracy: 0.9589 - val_loss: 0.0885 - val_binary_accuracy: 0.9628\n",
      "Epoch 15/100\n",
      "147/147 [==============================] - 98s 662ms/step - loss: 0.1147 - binary_accuracy: 0.9585 - val_loss: 0.0820 - val_binary_accuracy: 0.9647\n",
      "Epoch 16/100\n",
      "147/147 [==============================] - 98s 663ms/step - loss: 0.1149 - binary_accuracy: 0.9602 - val_loss: 0.0806 - val_binary_accuracy: 0.9703\n",
      "Epoch 17/100\n",
      "147/147 [==============================] - 98s 662ms/step - loss: 0.1103 - binary_accuracy: 0.9587 - val_loss: 0.0780 - val_binary_accuracy: 0.9703\n",
      "Epoch 18/100\n",
      "147/147 [==============================] - 98s 660ms/step - loss: 0.0955 - binary_accuracy: 0.9670 - val_loss: 0.0765 - val_binary_accuracy: 0.9740\n",
      "Epoch 19/100\n",
      "147/147 [==============================] - 98s 664ms/step - loss: 0.0951 - binary_accuracy: 0.9668 - val_loss: 0.0817 - val_binary_accuracy: 0.9758\n",
      "Epoch 20/100\n",
      "147/147 [==============================] - 100s 675ms/step - loss: 0.0946 - binary_accuracy: 0.9691 - val_loss: 0.0718 - val_binary_accuracy: 0.9721\n",
      "Epoch 21/100\n",
      "147/147 [==============================] - 98s 662ms/step - loss: 0.0878 - binary_accuracy: 0.9702 - val_loss: 0.0666 - val_binary_accuracy: 0.9703\n",
      "Epoch 22/100\n",
      "147/147 [==============================] - 99s 668ms/step - loss: 0.0824 - binary_accuracy: 0.9729 - val_loss: 0.0713 - val_binary_accuracy: 0.9796\n",
      "Epoch 23/100\n",
      "147/147 [==============================] - 99s 666ms/step - loss: 0.0772 - binary_accuracy: 0.9738 - val_loss: 0.0617 - val_binary_accuracy: 0.9796\n",
      "Epoch 24/100\n",
      "147/147 [==============================] - 99s 671ms/step - loss: 0.0794 - binary_accuracy: 0.9725 - val_loss: 0.0527 - val_binary_accuracy: 0.9814\n",
      "Epoch 25/100\n",
      "147/147 [==============================] - 99s 668ms/step - loss: 0.0790 - binary_accuracy: 0.9712 - val_loss: 0.0665 - val_binary_accuracy: 0.9740\n",
      "Epoch 26/100\n",
      "147/147 [==============================] - 98s 667ms/step - loss: 0.0753 - binary_accuracy: 0.9738 - val_loss: 0.0509 - val_binary_accuracy: 0.9814\n",
      "Epoch 27/100\n",
      "147/147 [==============================] - 100s 677ms/step - loss: 0.0727 - binary_accuracy: 0.9753 - val_loss: 0.0450 - val_binary_accuracy: 0.9851\n",
      "Epoch 28/100\n",
      "147/147 [==============================] - 100s 677ms/step - loss: 0.0732 - binary_accuracy: 0.9751 - val_loss: 0.0504 - val_binary_accuracy: 0.9740\n",
      "Epoch 29/100\n",
      "147/147 [==============================] - 100s 676ms/step - loss: 0.0676 - binary_accuracy: 0.9759 - val_loss: 0.0688 - val_binary_accuracy: 0.9777\n",
      "Epoch 30/100\n",
      "147/147 [==============================] - 100s 677ms/step - loss: 0.0621 - binary_accuracy: 0.9781 - val_loss: 0.0380 - val_binary_accuracy: 0.9888\n",
      "Epoch 31/100\n",
      "147/147 [==============================] - 99s 676ms/step - loss: 0.0717 - binary_accuracy: 0.9753 - val_loss: 0.0569 - val_binary_accuracy: 0.9796\n",
      "Epoch 32/100\n",
      "147/147 [==============================] - 100s 677ms/step - loss: 0.0554 - binary_accuracy: 0.9825 - val_loss: 0.0377 - val_binary_accuracy: 0.9888\n",
      "Epoch 33/100\n",
      "147/147 [==============================] - 100s 679ms/step - loss: 0.0592 - binary_accuracy: 0.9785 - val_loss: 0.0397 - val_binary_accuracy: 0.9870\n",
      "Epoch 34/100\n",
      "147/147 [==============================] - 99s 676ms/step - loss: 0.0587 - binary_accuracy: 0.9783 - val_loss: 0.0329 - val_binary_accuracy: 0.9926\n",
      "Epoch 35/100\n",
      "147/147 [==============================] - 100s 683ms/step - loss: 0.0538 - binary_accuracy: 0.9825 - val_loss: 0.0631 - val_binary_accuracy: 0.9796\n",
      "Epoch 36/100\n",
      "147/147 [==============================] - 100s 679ms/step - loss: 0.0539 - binary_accuracy: 0.9838 - val_loss: 0.0387 - val_binary_accuracy: 0.9870\n",
      "Epoch 37/100\n",
      "147/147 [==============================] - 100s 681ms/step - loss: 0.0499 - binary_accuracy: 0.9830 - val_loss: 0.0557 - val_binary_accuracy: 0.9796\n",
      "Epoch 38/100\n",
      "147/147 [==============================] - 99s 672ms/step - loss: 0.0475 - binary_accuracy: 0.9842 - val_loss: 0.0372 - val_binary_accuracy: 0.9870\n",
      "Epoch 39/100\n",
      "147/147 [==============================] - 92s 626ms/step - loss: 0.0551 - binary_accuracy: 0.9800 - val_loss: 0.0579 - val_binary_accuracy: 0.9796\n",
      "Epoch 40/100\n",
      "147/147 [==============================] - 99s 675ms/step - loss: 0.0462 - binary_accuracy: 0.9849 - val_loss: 0.0450 - val_binary_accuracy: 0.9851\n",
      "Epoch 41/100\n",
      "147/147 [==============================] - 100s 683ms/step - loss: 0.0488 - binary_accuracy: 0.9832 - val_loss: 0.0429 - val_binary_accuracy: 0.9870\n",
      "Epoch 42/100\n",
      "147/147 [==============================] - 101s 684ms/step - loss: 0.0468 - binary_accuracy: 0.9830 - val_loss: 0.0474 - val_binary_accuracy: 0.9888\n",
      "Epoch 43/100\n",
      "147/147 [==============================] - 103s 701ms/step - loss: 0.0496 - binary_accuracy: 0.9830 - val_loss: 0.0429 - val_binary_accuracy: 0.9814\n",
      "Epoch 44/100\n",
      "147/147 [==============================] - 105s 709ms/step - loss: 0.0518 - binary_accuracy: 0.9834 - val_loss: 0.0431 - val_binary_accuracy: 0.9833\n",
      "Epoch 45/100\n",
      "147/147 [==============================] - 103s 699ms/step - loss: 0.0424 - binary_accuracy: 0.9857 - val_loss: 0.0487 - val_binary_accuracy: 0.9870\n",
      "Epoch 46/100\n",
      "147/147 [==============================] - 102s 697ms/step - loss: 0.0433 - binary_accuracy: 0.9866 - val_loss: 0.0457 - val_binary_accuracy: 0.9833\n",
      "Epoch 47/100\n",
      "147/147 [==============================] - 104s 706ms/step - loss: 0.0458 - binary_accuracy: 0.9838 - val_loss: 0.0448 - val_binary_accuracy: 0.9814\n",
      "Epoch 48/100\n",
      "147/147 [==============================] - 105s 711ms/step - loss: 0.0405 - binary_accuracy: 0.9870 - val_loss: 0.0537 - val_binary_accuracy: 0.9814\n",
      "Epoch 49/100\n",
      "147/147 [==============================] - 104s 704ms/step - loss: 0.0426 - binary_accuracy: 0.9855 - val_loss: 0.0452 - val_binary_accuracy: 0.9833\n",
      "Epoch 50/100\n",
      "147/147 [==============================] - 103s 703ms/step - loss: 0.0416 - binary_accuracy: 0.9844 - val_loss: 0.0397 - val_binary_accuracy: 0.9851\n",
      "Epoch 51/100\n",
      "147/147 [==============================] - 107s 725ms/step - loss: 0.0422 - binary_accuracy: 0.9864 - val_loss: 0.0356 - val_binary_accuracy: 0.9833\n",
      "Epoch 52/100\n",
      "147/147 [==============================] - 104s 706ms/step - loss: 0.0352 - binary_accuracy: 0.9881 - val_loss: 0.0385 - val_binary_accuracy: 0.9888\n",
      "Epoch 53/100\n",
      "147/147 [==============================] - 105s 713ms/step - loss: 0.0385 - binary_accuracy: 0.9866 - val_loss: 0.0411 - val_binary_accuracy: 0.9833\n",
      "Epoch 54/100\n",
      "147/147 [==============================] - 101s 689ms/step - loss: 0.0351 - binary_accuracy: 0.9874 - val_loss: 0.0454 - val_binary_accuracy: 0.9814\n",
      "Epoch 55/100\n",
      "147/147 [==============================] - 104s 706ms/step - loss: 0.0354 - binary_accuracy: 0.9885 - val_loss: 0.0398 - val_binary_accuracy: 0.9851\n",
      "Epoch 56/100\n",
      "147/147 [==============================] - 107s 724ms/step - loss: 0.0332 - binary_accuracy: 0.9883 - val_loss: 0.0366 - val_binary_accuracy: 0.9888\n",
      "Epoch 57/100\n",
      "147/147 [==============================] - 105s 715ms/step - loss: 0.0356 - binary_accuracy: 0.9870 - val_loss: 0.0474 - val_binary_accuracy: 0.9796\n",
      "Epoch 58/100\n",
      "147/147 [==============================] - 104s 709ms/step - loss: 0.0331 - binary_accuracy: 0.9891 - val_loss: 0.0400 - val_binary_accuracy: 0.9814\n",
      "Epoch 59/100\n",
      "147/147 [==============================] - 106s 720ms/step - loss: 0.0327 - binary_accuracy: 0.9900 - val_loss: 0.0410 - val_binary_accuracy: 0.9870\n",
      "Epoch 60/100\n",
      "147/147 [==============================] - 101s 686ms/step - loss: 0.0280 - binary_accuracy: 0.9911 - val_loss: 0.0390 - val_binary_accuracy: 0.9833\n",
      "Epoch 61/100\n",
      "147/147 [==============================] - 104s 705ms/step - loss: 0.0332 - binary_accuracy: 0.9881 - val_loss: 0.0412 - val_binary_accuracy: 0.9870\n",
      "Epoch 62/100\n",
      "147/147 [==============================] - 104s 706ms/step - loss: 0.0336 - binary_accuracy: 0.9893 - val_loss: 0.0458 - val_binary_accuracy: 0.9796\n",
      "Epoch 63/100\n",
      "147/147 [==============================] - 104s 710ms/step - loss: 0.0305 - binary_accuracy: 0.9887 - val_loss: 0.0375 - val_binary_accuracy: 0.9888\n",
      "Epoch 64/100\n",
      "147/147 [==============================] - 101s 690ms/step - loss: 0.0346 - binary_accuracy: 0.9889 - val_loss: 0.0441 - val_binary_accuracy: 0.9851\n",
      "Epoch 65/100\n",
      "147/147 [==============================] - 105s 711ms/step - loss: 0.0302 - binary_accuracy: 0.9900 - val_loss: 0.0424 - val_binary_accuracy: 0.9870\n",
      "Epoch 66/100\n",
      "147/147 [==============================] - 107s 726ms/step - loss: 0.0272 - binary_accuracy: 0.9913 - val_loss: 0.0254 - val_binary_accuracy: 0.9888\n",
      "Epoch 67/100\n",
      "147/147 [==============================] - 103s 699ms/step - loss: 0.0336 - binary_accuracy: 0.9879 - val_loss: 0.0370 - val_binary_accuracy: 0.9851\n",
      "Epoch 68/100\n",
      "147/147 [==============================] - 102s 695ms/step - loss: 0.0291 - binary_accuracy: 0.9893 - val_loss: 0.0520 - val_binary_accuracy: 0.9796\n",
      "Epoch 69/100\n",
      "147/147 [==============================] - 98s 668ms/step - loss: 0.0260 - binary_accuracy: 0.9915 - val_loss: 0.0465 - val_binary_accuracy: 0.9796\n",
      "Epoch 70/100\n",
      "147/147 [==============================] - 102s 694ms/step - loss: 0.0265 - binary_accuracy: 0.9887 - val_loss: 0.0599 - val_binary_accuracy: 0.9777\n",
      "Epoch 71/100\n",
      "147/147 [==============================] - 99s 671ms/step - loss: 0.0299 - binary_accuracy: 0.9889 - val_loss: 0.0340 - val_binary_accuracy: 0.9907\n",
      "Epoch 72/100\n",
      "147/147 [==============================] - 102s 691ms/step - loss: 0.0258 - binary_accuracy: 0.9908 - val_loss: 0.0402 - val_binary_accuracy: 0.9888\n",
      "Epoch 73/100\n",
      "147/147 [==============================] - 99s 670ms/step - loss: 0.0236 - binary_accuracy: 0.9921 - val_loss: 0.0445 - val_binary_accuracy: 0.9814\n",
      "Epoch 74/100\n",
      "147/147 [==============================] - 102s 693ms/step - loss: 0.0289 - binary_accuracy: 0.9900 - val_loss: 0.0485 - val_binary_accuracy: 0.9833\n",
      "Epoch 75/100\n",
      "147/147 [==============================] - 100s 679ms/step - loss: 0.0205 - binary_accuracy: 0.9934 - val_loss: 0.0366 - val_binary_accuracy: 0.9907\n",
      "Epoch 76/100\n",
      "147/147 [==============================] - 99s 676ms/step - loss: 0.0207 - binary_accuracy: 0.9928 - val_loss: 0.0372 - val_binary_accuracy: 0.9851\n",
      "Epoch 77/100\n",
      "147/147 [==============================] - 104s 702ms/step - loss: 0.0230 - binary_accuracy: 0.9928 - val_loss: 0.0415 - val_binary_accuracy: 0.9851\n",
      "Epoch 78/100\n",
      "147/147 [==============================] - 100s 680ms/step - loss: 0.0255 - binary_accuracy: 0.9911 - val_loss: 0.0320 - val_binary_accuracy: 0.9851\n",
      "Epoch 79/100\n",
      "147/147 [==============================] - 104s 708ms/step - loss: 0.0263 - binary_accuracy: 0.9919 - val_loss: 0.0416 - val_binary_accuracy: 0.9833\n",
      "Epoch 80/100\n",
      "147/147 [==============================] - 99s 671ms/step - loss: 0.0264 - binary_accuracy: 0.9891 - val_loss: 0.0374 - val_binary_accuracy: 0.9888\n",
      "Epoch 81/100\n",
      "147/147 [==============================] - 103s 699ms/step - loss: 0.0228 - binary_accuracy: 0.9936 - val_loss: 0.0387 - val_binary_accuracy: 0.9851\n",
      "Epoch 82/100\n",
      "147/147 [==============================] - 99s 677ms/step - loss: 0.0170 - binary_accuracy: 0.9945 - val_loss: 0.0396 - val_binary_accuracy: 0.9888\n",
      "Epoch 83/100\n",
      "147/147 [==============================] - 103s 698ms/step - loss: 0.0176 - binary_accuracy: 0.9936 - val_loss: 0.0366 - val_binary_accuracy: 0.9870\n",
      "Epoch 84/100\n",
      "147/147 [==============================] - 100s 678ms/step - loss: 0.0208 - binary_accuracy: 0.9936 - val_loss: 0.0261 - val_binary_accuracy: 0.9926\n",
      "Epoch 85/100\n",
      "147/147 [==============================] - 103s 702ms/step - loss: 0.0192 - binary_accuracy: 0.9928 - val_loss: 0.0285 - val_binary_accuracy: 0.9926\n",
      "Epoch 86/100\n",
      "147/147 [==============================] - 100s 680ms/step - loss: 0.0229 - binary_accuracy: 0.9930 - val_loss: 0.0411 - val_binary_accuracy: 0.9870\n",
      "Epoch 87/100\n",
      "147/147 [==============================] - 104s 706ms/step - loss: 0.0189 - binary_accuracy: 0.9932 - val_loss: 0.0337 - val_binary_accuracy: 0.9907\n",
      "Epoch 88/100\n",
      "147/147 [==============================] - 100s 677ms/step - loss: 0.0168 - binary_accuracy: 0.9951 - val_loss: 0.0406 - val_binary_accuracy: 0.9870\n",
      "Epoch 89/100\n",
      "147/147 [==============================] - 99s 676ms/step - loss: 0.0219 - binary_accuracy: 0.9913 - val_loss: 0.0416 - val_binary_accuracy: 0.9870\n",
      "Epoch 90/100\n",
      "147/147 [==============================] - 103s 700ms/step - loss: 0.0128 - binary_accuracy: 0.9962 - val_loss: 0.0271 - val_binary_accuracy: 0.9888\n",
      "Epoch 91/100\n",
      "147/147 [==============================] - 101s 682ms/step - loss: 0.0173 - binary_accuracy: 0.9938 - val_loss: 0.0392 - val_binary_accuracy: 0.9888\n",
      "Epoch 92/100\n",
      "147/147 [==============================] - 104s 708ms/step - loss: 0.0145 - binary_accuracy: 0.9957 - val_loss: 0.0300 - val_binary_accuracy: 0.9907\n",
      "Epoch 93/100\n",
      "147/147 [==============================] - 99s 674ms/step - loss: 0.0174 - binary_accuracy: 0.9957 - val_loss: 0.0416 - val_binary_accuracy: 0.9888\n",
      "Epoch 94/100\n",
      "147/147 [==============================] - 105s 713ms/step - loss: 0.0189 - binary_accuracy: 0.9930 - val_loss: 0.0285 - val_binary_accuracy: 0.9907\n",
      "Epoch 95/100\n",
      "147/147 [==============================] - 101s 685ms/step - loss: 0.0152 - binary_accuracy: 0.9945 - val_loss: 0.0283 - val_binary_accuracy: 0.9944\n",
      "Epoch 96/100\n",
      "147/147 [==============================] - 107s 725ms/step - loss: 0.0236 - binary_accuracy: 0.9919 - val_loss: 0.0350 - val_binary_accuracy: 0.9907\n",
      "Epoch 97/100\n",
      "147/147 [==============================] - 100s 683ms/step - loss: 0.0165 - binary_accuracy: 0.9938 - val_loss: 0.0397 - val_binary_accuracy: 0.9907\n",
      "Epoch 98/100\n",
      "147/147 [==============================] - 100s 681ms/step - loss: 0.0138 - binary_accuracy: 0.9949 - val_loss: 0.0471 - val_binary_accuracy: 0.9833\n",
      "Epoch 99/100\n",
      "147/147 [==============================] - 100s 681ms/step - loss: 0.0167 - binary_accuracy: 0.9934 - val_loss: 0.0292 - val_binary_accuracy: 0.9926\n",
      "Epoch 100/100\n",
      "147/147 [==============================] - 105s 712ms/step - loss: 0.0172 - binary_accuracy: 0.9953 - val_loss: 0.0376 - val_binary_accuracy: 0.9907\n"
     ]
    }
   ],
   "source": [
    "history = model.fit(x = train_generator,validation_data=valid_generator,epochs = EPOCHS)"
   ]
  },
  {
   "cell_type": "code",
   "execution_count": 9,
   "id": "b3f77871",
   "metadata": {
    "execution": {
     "iopub.execute_input": "2022-01-04T12:33:02.578891Z",
     "iopub.status.busy": "2022-01-04T12:33:02.578096Z",
     "iopub.status.idle": "2022-01-04T12:33:03.107152Z",
     "shell.execute_reply": "2022-01-04T12:33:03.107719Z"
    },
    "papermill": {
     "duration": 5.758725,
     "end_time": "2022-01-04T12:33:03.107930",
     "exception": false,
     "start_time": "2022-01-04T12:32:57.349205",
     "status": "completed"
    },
    "tags": []
   },
   "outputs": [
    {
     "data": {
      "text/plain": [
       "<AxesSubplot:>"
      ]
     },
     "execution_count": 9,
     "metadata": {},
     "output_type": "execute_result"
    },
    {
     "data": {
      "image/png": "[encoded data removed]",
      "text/plain": [
       "<Figure size 432x288 with 1 Axes>"
      ]
     },
     "metadata": {
      "needs_background": "light"
     },
     "output_type": "display_data"
    },
    {
     "data": {
      "image/png": "[encoded data removed]",
      "text/plain": [
       "<Figure size 432x288 with 1 Axes>"
      ]
     },
     "metadata": {
      "needs_background": "light"
     },
     "output_type": "display_data"
    }
   ],
   "source": [
    "history_df = pd.DataFrame(history.history)\n",
    "history_df.loc[:, ['loss', 'val_loss']].plot()\n",
    "history_df.loc[:, ['binary_accuracy', 'val_binary_accuracy']].plot()"
   ]
  },
  {
   "cell_type": "code",
   "execution_count": 10,
   "id": "1c9d6ecf",
   "metadata": {
    "execution": {
     "iopub.execute_input": "2022-01-04T12:33:14.132253Z",
     "iopub.status.busy": "2022-01-04T12:33:14.131549Z",
     "iopub.status.idle": "2022-01-04T12:33:14.245283Z",
     "shell.execute_reply": "2022-01-04T12:33:14.244141Z"
    },
    "papermill": {
     "duration": 5.354556,
     "end_time": "2022-01-04T12:33:14.245585",
     "exception": false,
     "start_time": "2022-01-04T12:33:08.891029",
     "status": "completed"
    },
    "tags": []
   },
   "outputs": [
    {
     "name": "stdout",
     "output_type": "stream",
     "text": [
      "Found 624 images belonging to 2 classes.\n"
     ]
    }
   ],
   "source": [
    "test_ds = test_datagen.flow_from_directory(\n",
    "    test_dir,\n",
    "    target_size = (160,160),\n",
    "    shuffle = False\n",
    ")"
   ]
  },
  {
   "cell_type": "code",
   "execution_count": 11,
   "id": "a431dc07",
   "metadata": {
    "execution": {
     "iopub.execute_input": "2022-01-04T12:33:25.574622Z",
     "iopub.status.busy": "2022-01-04T12:33:25.573462Z",
     "iopub.status.idle": "2022-01-04T12:33:38.774138Z",
     "shell.execute_reply": "2022-01-04T12:33:38.774660Z"
    },
    "papermill": {
     "duration": 18.979611,
     "end_time": "2022-01-04T12:33:38.774871",
     "exception": false,
     "start_time": "2022-01-04T12:33:19.795260",
     "status": "completed"
    },
    "tags": []
   },
   "outputs": [
    {
     "name": "stdout",
     "output_type": "stream",
     "text": [
      "20/20 [==============================] - 12s 506ms/step - loss: 0.9454 - binary_accuracy: 0.7885\n",
      "\n",
      "binary_accuracy: 78.85%\n"
     ]
    }
   ],
   "source": [
    "scores = model.evaluate(test_ds)\n",
    "print(\"\\n%s: %.2f%%\" % (model.metrics_names[1], scores[1]*100))"
   ]
  },
  {
   "cell_type": "code",
   "execution_count": null,
   "id": "f8ae3170",
   "metadata": {
    "papermill": {
     "duration": 5.329785,
     "end_time": "2022-01-04T12:33:49.360417",
     "exception": false,
     "start_time": "2022-01-04T12:33:44.030632",
     "status": "completed"
    },
    "tags": []
   },
   "outputs": [],
   "source": []
  }
 ],
 "metadata": {
  "kernelspec": {
   "display_name": "Python 3",
   "language": "python",
   "name": "python3"
  },
  "language_info": {
   "codemirror_mode": {
    "name": "ipython",
    "version": 3
   },
   "file_extension": ".py",
   "mimetype": "text/x-python",
   "name": "python",
   "nbconvert_exporter": "python",
   "pygments_lexer": "ipython3",
   "version": "3.7.12"
  },
  "papermill": {
   "default_parameters": {},
   "duration": 11184.114061,
   "end_time": "2022-01-04T12:33:58.270480",
   "environment_variables": {},
   "exception": null,
   "input_path": "__notebook__.ipynb",
   "output_path": "__notebook__.ipynb",
   "parameters": {},
   "start_time": "2022-01-04T09:27:34.156419",
   "version": "2.3.3"
  }
 },
 "nbformat": 4,
 "nbformat_minor": 5
}
